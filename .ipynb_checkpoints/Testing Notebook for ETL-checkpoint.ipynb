{
 "cells": [
  {
   "cell_type": "markdown",
   "id": "8c671a82",
   "metadata": {},
   "source": [
    "# Connecting to Mongo Database and getting documents"
   ]
  },
  {
   "cell_type": "code",
   "execution_count": 17,
   "id": "d012d8de",
   "metadata": {},
   "outputs": [],
   "source": [
    "from Database import MongoDB\n",
    "import json\n",
    "import numpy as np\n",
    "import pandas as pd\n",
    "import json"
   ]
  },
  {
   "cell_type": "code",
   "execution_count": 4,
   "id": "7921f7f0",
   "metadata": {},
   "outputs": [],
   "source": [
    "db = MongoDB()\n",
    "db.connection()"
   ]
  },
  {
   "cell_type": "code",
   "execution_count": 5,
   "id": "90f1b216",
   "metadata": {
    "scrolled": true
   },
   "outputs": [],
   "source": [
    "docs = db.cols.find()\n",
    "doc_list=[doc for doc in docs]\n",
    "    "
   ]
  },
  {
   "cell_type": "code",
   "execution_count": 7,
   "id": "27ac3807-ae15-45b1-8f93-bb6fa90065c3",
   "metadata": {},
   "outputs": [],
   "source": [
    "id_str = str(doc_list[1]['_id'])"
   ]
  },
  {
   "cell_type": "code",
   "execution_count": 8,
   "id": "6401b28f-09d1-412f-ad66-aa85b5838547",
   "metadata": {},
   "outputs": [
    {
     "data": {
      "text/plain": [
       "'643436e8a805f2aba00f3a7c'"
      ]
     },
     "execution_count": 8,
     "metadata": {},
     "output_type": "execute_result"
    }
   ],
   "source": [
    "id_str"
   ]
  },
  {
   "cell_type": "code",
   "execution_count": 6,
   "id": "7091eed1",
   "metadata": {},
   "outputs": [
    {
     "data": {
      "text/plain": [
       "{'_id': ObjectId('643436e8a805f2aba00f3a7c'),\n",
       " 'Name': 'Redmi Note 12 5G Mystique Blue 4GB RAM 128GB ROM | 1st Phone with 120Hz Super AMOLED and Snapdragon® 4 Gen 1 | 48MP AI Triple Camera',\n",
       " 'Price': 17999.0,\n",
       " 'Stars': 3.9,\n",
       " 'Ratings': 2883,\n",
       " 'Answered_Questions': 206,\n",
       " 'Amazon_Services': '[\"Free Delivery\", \"Pay on Delivery\", \"7 days Replacement\", \"1 Year Warranty\", \"Top Brand\", \"Amazon Delivered\", \"Secure transaction\"]',\n",
       " 'Description': '[\"Display: Super AMOLED (1080x2400) Display with 120Hz Refresh rate; 1200nits peak brightness; 240Hz Touch sampling rate\", \"Processor: Snapdragon 4 Gen1 6nm Octa-core 5G processor for high performance and efficiency with Adreno 619 GPU; Up to 2.0GHz\", \"Camera: 48MP AI Triple camera setup with 8MP Ultra Wide sensor and 2MP Macro camera| 13MP Front camera\", \"Battery: 5000mAh large battery with 33W fast charger in-box and Type-C connectivity\", \"Memory, Storage & SIM: 4GB RAM | 128GB UFS 2.2 storage expandable up to 1TB | Dual SIM (nano+nano) Dual 5G (5G+5G)\"]',\n",
       " 'Technical_details': {'OS': 'MIUI 13',\n",
       "  'RAM': '128 GB',\n",
       "  'Product_Dimensions': '16.6 x 0.8 x 7.6 cm; 188 Grams',\n",
       "  'Batteries': '1 Lithium Polymer batteries required. (included)',\n",
       "  'Item_model_number': 'AMOLED',\n",
       "  'Wireless_communication_technologies': 'Bluetooth, Cellular, Wi-Fi',\n",
       "  'Connectivity_technologies': 'Wi-Fi, Infrared, USB',\n",
       "  'GPS': 'True',\n",
       "  'Special_features': 'Corning® Gorilla® Glass protection, 3.5mm Jack, IR Blaster, IP53 Protection, 48MP Triple Camera setup with dedicated ultra-wide and macro sensors Portrait | Pro mode | Night mode | Document mode | Panorama | Short video | Time-lapse | Slo-mo | Macro mode',\n",
       "  'Other_display_features': 'Wireless',\n",
       "  'Device_interface_-_primary': 'Touchscreen',\n",
       "  'Other_camera_features': 'Front',\n",
       "  'Audio_Jack': '3.5 mm',\n",
       "  'Form_factor': 'Bar',\n",
       "  'Colour': 'Mystique Blue',\n",
       "  'Battery_Power_Rating': '5000',\n",
       "  'Whats_in_the_box': 'Redmi Note 12 5G, Power adapter, USB cable, SIM eject tool, Warranty card, User guide, Clear soft case, Screen protector pre-applied on the phone',\n",
       "  'Manufacturer': 'Redmi',\n",
       "  'Country_of_Origin': 'India',\n",
       "  'Item_Weight': '188 g'},\n",
       " 'Additional_details': {'ASIN': 'B0BQ3PJJDQ',\n",
       "  'Customer_Reviews': '3.9 out of 5 stars 2,883 ratings 3.9 out of 5 stars',\n",
       "  'Best_Sellers_Rank': '#822 in Electronics (See Top 100 in Electronics) #90 in Smartphones',\n",
       "  'Date_First_Available': '6 January 2023',\n",
       "  'Manufacturer': 'Redmi, Bharat FIH limited , #380,BELERICA ROAD,SRI CITY,SIDDAM AGRAHARAM VILLAGE,VARADAIAHPALEM MANDAL,CHITTOOR DISTRICT-517541,ANDHRA PRADESH',\n",
       "  'Packer': 'Bharat FIH limited , #380,BELERICA ROAD,SRI CITY,SIDDAM AGRAHARAM VILLAGE,VARADAIAHPALEM MANDAL,CHITTOOR DISTRICT-517541,ANDHRA PRADESH',\n",
       "  'Importer': 'Xiaomi Technology India Private Limited, Building Orchid. Block E, Embassy Tech Village, Marathahalli Outer Ring Road, Devarabisanahalli, Bengaluru 560103',\n",
       "  'Item_Dimensions_LxWxH': '16.6 x 0.8 x 7.6 Centimeters',\n",
       "  'Net_Quantity': '188 Grams',\n",
       "  'Generic_Name': 'Smartphone'},\n",
       " 'Link': 'https://www.amazon.in/sspa/click?ie=UTF8&spc=MTozMTIwNTU2MDkxMzQ3NjY6MTY4MTE0MzUyMTpzcF9hdGY6MjAxMDkyMjU2NTM5OTg6OjA6Og&url=%2FRedmi-Mystique-AMOLED-Snapdragon%25C2%25AE-Triple%2Fdp%2FB0BQ3PJJDQ%2Fref%3Dsr_1_2_sspa%3Fcrid%3D2C9GZV1PQRGTM%26keywords%3Dmobile%26qid%3D1681143521%26sprefix%3Dabc%252Caps%252C501%26sr%3D8-2-spons%26sp_csd%3Dd2lkZ2V0TmFtZT1zcF9hdGY%26psc%3D1',\n",
       " 'Page': 1,\n",
       " 'Date': '2023-04-10 21:48:44',\n",
       " 'Search': 'mobile'}"
      ]
     },
     "execution_count": 6,
     "metadata": {},
     "output_type": "execute_result"
    }
   ],
   "source": [
    "doc_list[1]"
   ]
  },
  {
   "cell_type": "code",
   "execution_count": 14,
   "id": "b1a98cde",
   "metadata": {},
   "outputs": [],
   "source": [
    "df = pd.DataFrame(doc_list)"
   ]
  },
  {
   "cell_type": "code",
   "execution_count": 11,
   "id": "5a1feccb",
   "metadata": {},
   "outputs": [
    {
     "data": {
      "text/html": [
       "<div>\n",
       "<style scoped>\n",
       "    .dataframe tbody tr th:only-of-type {\n",
       "        vertical-align: middle;\n",
       "    }\n",
       "\n",
       "    .dataframe tbody tr th {\n",
       "        vertical-align: top;\n",
       "    }\n",
       "\n",
       "    .dataframe thead th {\n",
       "        text-align: right;\n",
       "    }\n",
       "</style>\n",
       "<table border=\"1\" class=\"dataframe\">\n",
       "  <thead>\n",
       "    <tr style=\"text-align: right;\">\n",
       "      <th></th>\n",
       "      <th>_id</th>\n",
       "      <th>Name</th>\n",
       "      <th>Price</th>\n",
       "      <th>Stars</th>\n",
       "      <th>Ratings</th>\n",
       "      <th>Answered_Questions</th>\n",
       "      <th>Amazon_Services</th>\n",
       "      <th>Description</th>\n",
       "      <th>Technical_details</th>\n",
       "      <th>Additional_details</th>\n",
       "      <th>Link</th>\n",
       "      <th>Page</th>\n",
       "      <th>Date</th>\n",
       "      <th>Search</th>\n",
       "    </tr>\n",
       "  </thead>\n",
       "  <tbody>\n",
       "    <tr>\n",
       "      <th>0</th>\n",
       "      <td>643436e3a805f2aba00f3a7b</td>\n",
       "      <td>Redmi 12C (Lavender Purple, 6GB RAM, 128GB Sto...</td>\n",
       "      <td>10999.0</td>\n",
       "      <td>0.0</td>\n",
       "      <td>0</td>\n",
       "      <td>0</td>\n",
       "      <td>[\"Free Delivery\", \"Pay on Delivery\", \"7 days R...</td>\n",
       "      <td>[\"Processor: High performance MediaTek Helio G...</td>\n",
       "      <td>{'OS': 'MIUI 13, Android 12.0', 'RAM': '128 GB...</td>\n",
       "      <td>{'ASIN': 'B0BYN4LFT6', 'Best_Sellers_Rank': '#...</td>\n",
       "      <td>https://www.amazon.in/sspa/click?ie=UTF8&amp;spc=M...</td>\n",
       "      <td>1</td>\n",
       "      <td>2023-04-10 21:48:40</td>\n",
       "      <td>mobile</td>\n",
       "    </tr>\n",
       "    <tr>\n",
       "      <th>1</th>\n",
       "      <td>643436e8a805f2aba00f3a7c</td>\n",
       "      <td>Redmi Note 12 5G Mystique Blue 4GB RAM 128GB R...</td>\n",
       "      <td>17999.0</td>\n",
       "      <td>3.9</td>\n",
       "      <td>2883</td>\n",
       "      <td>206</td>\n",
       "      <td>[\"Free Delivery\", \"Pay on Delivery\", \"7 days R...</td>\n",
       "      <td>[\"Display: Super AMOLED (1080x2400) Display wi...</td>\n",
       "      <td>{'OS': 'MIUI 13', 'RAM': '128 GB', 'Product_Di...</td>\n",
       "      <td>{'ASIN': 'B0BQ3PJJDQ', 'Customer_Reviews': '3....</td>\n",
       "      <td>https://www.amazon.in/sspa/click?ie=UTF8&amp;spc=M...</td>\n",
       "      <td>1</td>\n",
       "      <td>2023-04-10 21:48:44</td>\n",
       "      <td>mobile</td>\n",
       "    </tr>\n",
       "    <tr>\n",
       "      <th>2</th>\n",
       "      <td>643436eda805f2aba00f3a7d</td>\n",
       "      <td>OnePlus Nord CE 2 Lite 5G (Black Dusk, 6GB RAM...</td>\n",
       "      <td>18999.0</td>\n",
       "      <td>4.3</td>\n",
       "      <td>117898</td>\n",
       "      <td>1000</td>\n",
       "      <td>[\"Free Delivery\", \"Pay on Delivery\", \"7 days R...</td>\n",
       "      <td>[\"Camera: 64MP Main Camera with EIS; 2MP Depth...</td>\n",
       "      <td>{'OS': 'OxygenOS', 'RAM': '6 GB', 'Product_Dim...</td>\n",
       "      <td>{'ASIN': 'B09WQY65HN', 'Customer_Reviews': '4....</td>\n",
       "      <td>https://www.amazon.in/OnePlus-Nord-Black-128GB...</td>\n",
       "      <td>1</td>\n",
       "      <td>2023-04-10 21:48:49</td>\n",
       "      <td>mobile</td>\n",
       "    </tr>\n",
       "    <tr>\n",
       "      <th>3</th>\n",
       "      <td>643436f1a805f2aba00f3a7e</td>\n",
       "      <td>Redmi 12C (Royal Blue, 4GB RAM, 64GB Storage)</td>\n",
       "      <td>8999.0</td>\n",
       "      <td>0.0</td>\n",
       "      <td>0</td>\n",
       "      <td>0</td>\n",
       "      <td>[\"Free Delivery\", \"Pay on Delivery\", \"7 days R...</td>\n",
       "      <td>[\"Processor: High performance MediaTek Helio G...</td>\n",
       "      <td>{'OS': 'MIUI 13, Android 12.0', 'RAM': '64 GB'...</td>\n",
       "      <td>{'ASIN': 'B0BYN48MQW', 'Best_Sellers_Rank': '#...</td>\n",
       "      <td>https://www.amazon.in/Redmi-Royal-Blue-64GB-St...</td>\n",
       "      <td>1</td>\n",
       "      <td>2023-04-10 21:48:54</td>\n",
       "      <td>mobile</td>\n",
       "    </tr>\n",
       "    <tr>\n",
       "      <th>4</th>\n",
       "      <td>643436f6a805f2aba00f3a7f</td>\n",
       "      <td>Samsung Galaxy M04 Light Green, 4GB RAM, 64GB ...</td>\n",
       "      <td>8499.0</td>\n",
       "      <td>3.9</td>\n",
       "      <td>2849</td>\n",
       "      <td>299</td>\n",
       "      <td>[\"Free Delivery\", \"Pay on Delivery\", \"7 days R...</td>\n",
       "      <td>[\"Powerful MediaTek Helio P35 Octa Core 2.3GHz...</td>\n",
       "      <td>{'OS': 'Android 12.0', 'RAM': '4 GB', 'Product...</td>\n",
       "      <td>{'ASIN': 'B0BMGB2TPR', 'Customer_Reviews': '3....</td>\n",
       "      <td>https://www.amazon.in/Samsung-Galaxy-Storage-M...</td>\n",
       "      <td>1</td>\n",
       "      <td>2023-04-10 21:48:58</td>\n",
       "      <td>mobile</td>\n",
       "    </tr>\n",
       "  </tbody>\n",
       "</table>\n",
       "</div>"
      ],
      "text/plain": [
       "                        _id  \\\n",
       "0  643436e3a805f2aba00f3a7b   \n",
       "1  643436e8a805f2aba00f3a7c   \n",
       "2  643436eda805f2aba00f3a7d   \n",
       "3  643436f1a805f2aba00f3a7e   \n",
       "4  643436f6a805f2aba00f3a7f   \n",
       "\n",
       "                                                Name    Price  Stars  Ratings  \\\n",
       "0  Redmi 12C (Lavender Purple, 6GB RAM, 128GB Sto...  10999.0    0.0        0   \n",
       "1  Redmi Note 12 5G Mystique Blue 4GB RAM 128GB R...  17999.0    3.9     2883   \n",
       "2  OnePlus Nord CE 2 Lite 5G (Black Dusk, 6GB RAM...  18999.0    4.3   117898   \n",
       "3      Redmi 12C (Royal Blue, 4GB RAM, 64GB Storage)   8999.0    0.0        0   \n",
       "4  Samsung Galaxy M04 Light Green, 4GB RAM, 64GB ...   8499.0    3.9     2849   \n",
       "\n",
       "   Answered_Questions                                    Amazon_Services  \\\n",
       "0                   0  [\"Free Delivery\", \"Pay on Delivery\", \"7 days R...   \n",
       "1                 206  [\"Free Delivery\", \"Pay on Delivery\", \"7 days R...   \n",
       "2                1000  [\"Free Delivery\", \"Pay on Delivery\", \"7 days R...   \n",
       "3                   0  [\"Free Delivery\", \"Pay on Delivery\", \"7 days R...   \n",
       "4                 299  [\"Free Delivery\", \"Pay on Delivery\", \"7 days R...   \n",
       "\n",
       "                                         Description  \\\n",
       "0  [\"Processor: High performance MediaTek Helio G...   \n",
       "1  [\"Display: Super AMOLED (1080x2400) Display wi...   \n",
       "2  [\"Camera: 64MP Main Camera with EIS; 2MP Depth...   \n",
       "3  [\"Processor: High performance MediaTek Helio G...   \n",
       "4  [\"Powerful MediaTek Helio P35 Octa Core 2.3GHz...   \n",
       "\n",
       "                                   Technical_details  \\\n",
       "0  {'OS': 'MIUI 13, Android 12.0', 'RAM': '128 GB...   \n",
       "1  {'OS': 'MIUI 13', 'RAM': '128 GB', 'Product_Di...   \n",
       "2  {'OS': 'OxygenOS', 'RAM': '6 GB', 'Product_Dim...   \n",
       "3  {'OS': 'MIUI 13, Android 12.0', 'RAM': '64 GB'...   \n",
       "4  {'OS': 'Android 12.0', 'RAM': '4 GB', 'Product...   \n",
       "\n",
       "                                  Additional_details  \\\n",
       "0  {'ASIN': 'B0BYN4LFT6', 'Best_Sellers_Rank': '#...   \n",
       "1  {'ASIN': 'B0BQ3PJJDQ', 'Customer_Reviews': '3....   \n",
       "2  {'ASIN': 'B09WQY65HN', 'Customer_Reviews': '4....   \n",
       "3  {'ASIN': 'B0BYN48MQW', 'Best_Sellers_Rank': '#...   \n",
       "4  {'ASIN': 'B0BMGB2TPR', 'Customer_Reviews': '3....   \n",
       "\n",
       "                                                Link  Page  \\\n",
       "0  https://www.amazon.in/sspa/click?ie=UTF8&spc=M...     1   \n",
       "1  https://www.amazon.in/sspa/click?ie=UTF8&spc=M...     1   \n",
       "2  https://www.amazon.in/OnePlus-Nord-Black-128GB...     1   \n",
       "3  https://www.amazon.in/Redmi-Royal-Blue-64GB-St...     1   \n",
       "4  https://www.amazon.in/Samsung-Galaxy-Storage-M...     1   \n",
       "\n",
       "                  Date  Search  \n",
       "0  2023-04-10 21:48:40  mobile  \n",
       "1  2023-04-10 21:48:44  mobile  \n",
       "2  2023-04-10 21:48:49  mobile  \n",
       "3  2023-04-10 21:48:54  mobile  \n",
       "4  2023-04-10 21:48:58  mobile  "
      ]
     },
     "execution_count": 11,
     "metadata": {},
     "output_type": "execute_result"
    }
   ],
   "source": [
    "data.head()"
   ]
  },
  {
   "cell_type": "markdown",
   "id": "8a6e25cf",
   "metadata": {},
   "source": [
    "## Normalizing Technical and Additional details data\n"
   ]
  },
  {
   "cell_type": "code",
   "execution_count": 13,
   "id": "07fb28e9",
   "metadata": {},
   "outputs": [
    {
     "ename": "TypeError",
     "evalue": "string indices must be integers",
     "output_type": "error",
     "traceback": [
      "\u001b[1;31m---------------------------------------------------------------------------\u001b[0m",
      "\u001b[1;31mTypeError\u001b[0m                                 Traceback (most recent call last)",
      "\u001b[1;32m~\\AppData\\Local\\Temp\\ipykernel_13964\\1483738979.py\u001b[0m in \u001b[0;36m<module>\u001b[1;34m\u001b[0m\n\u001b[0;32m      1\u001b[0m \u001b[1;31m# Normalize the \"address\" and \"hobbies\" nested data\u001b[0m\u001b[1;33m\u001b[0m\u001b[1;33m\u001b[0m\u001b[0m\n\u001b[1;32m----> 2\u001b[1;33m \u001b[0mAdditional_details\u001b[0m \u001b[1;33m=\u001b[0m \u001b[0mpd\u001b[0m\u001b[1;33m.\u001b[0m\u001b[0mjson_normalize\u001b[0m\u001b[1;33m(\u001b[0m\u001b[0mdata\u001b[0m\u001b[1;33m,\u001b[0m \u001b[0mrecord_path\u001b[0m\u001b[1;33m=\u001b[0m\u001b[1;33m[\u001b[0m\u001b[1;34m\"Additional_details\"\u001b[0m\u001b[1;33m]\u001b[0m\u001b[1;33m,\u001b[0m \u001b[0mmeta\u001b[0m\u001b[1;33m=\u001b[0m\u001b[1;33m[\u001b[0m\u001b[1;34m\"_id\"\u001b[0m\u001b[1;33m]\u001b[0m\u001b[1;33m)\u001b[0m\u001b[1;33m\u001b[0m\u001b[1;33m\u001b[0m\u001b[0m\n\u001b[0m\u001b[0;32m      3\u001b[0m \u001b[0mTechnical_details\u001b[0m \u001b[1;33m=\u001b[0m \u001b[0mpd\u001b[0m\u001b[1;33m.\u001b[0m\u001b[0mjson_normalize\u001b[0m\u001b[1;33m(\u001b[0m\u001b[0mdata\u001b[0m\u001b[1;33m,\u001b[0m \u001b[0mrecord_path\u001b[0m\u001b[1;33m=\u001b[0m\u001b[1;33m[\u001b[0m\u001b[1;34m\"Technical_details\"\u001b[0m\u001b[1;33m]\u001b[0m\u001b[1;33m,\u001b[0m \u001b[0mmeta\u001b[0m\u001b[1;33m=\u001b[0m\u001b[1;33m[\u001b[0m\u001b[1;34m\"_id\"\u001b[0m\u001b[1;33m]\u001b[0m\u001b[1;33m)\u001b[0m\u001b[1;33m\u001b[0m\u001b[1;33m\u001b[0m\u001b[0m\n",
      "\u001b[1;32m~\\anaconda3\\lib\\site-packages\\pandas\\io\\json\\_normalize.py\u001b[0m in \u001b[0;36m_json_normalize\u001b[1;34m(data, record_path, meta, meta_prefix, record_prefix, errors, sep, max_level)\u001b[0m\n\u001b[0;32m    513\u001b[0m                 \u001b[0mrecords\u001b[0m\u001b[1;33m.\u001b[0m\u001b[0mextend\u001b[0m\u001b[1;33m(\u001b[0m\u001b[0mrecs\u001b[0m\u001b[1;33m)\u001b[0m\u001b[1;33m\u001b[0m\u001b[1;33m\u001b[0m\u001b[0m\n\u001b[0;32m    514\u001b[0m \u001b[1;33m\u001b[0m\u001b[0m\n\u001b[1;32m--> 515\u001b[1;33m     \u001b[0m_recursive_extract\u001b[0m\u001b[1;33m(\u001b[0m\u001b[0mdata\u001b[0m\u001b[1;33m,\u001b[0m \u001b[0mrecord_path\u001b[0m\u001b[1;33m,\u001b[0m \u001b[1;33m{\u001b[0m\u001b[1;33m}\u001b[0m\u001b[1;33m,\u001b[0m \u001b[0mlevel\u001b[0m\u001b[1;33m=\u001b[0m\u001b[1;36m0\u001b[0m\u001b[1;33m)\u001b[0m\u001b[1;33m\u001b[0m\u001b[1;33m\u001b[0m\u001b[0m\n\u001b[0m\u001b[0;32m    516\u001b[0m \u001b[1;33m\u001b[0m\u001b[0m\n\u001b[0;32m    517\u001b[0m     \u001b[0mresult\u001b[0m \u001b[1;33m=\u001b[0m \u001b[0mDataFrame\u001b[0m\u001b[1;33m(\u001b[0m\u001b[0mrecords\u001b[0m\u001b[1;33m)\u001b[0m\u001b[1;33m\u001b[0m\u001b[1;33m\u001b[0m\u001b[0m\n",
      "\u001b[1;32m~\\anaconda3\\lib\\site-packages\\pandas\\io\\json\\_normalize.py\u001b[0m in \u001b[0;36m_recursive_extract\u001b[1;34m(data, path, seen_meta, level)\u001b[0m\n\u001b[0;32m    495\u001b[0m         \u001b[1;32melse\u001b[0m\u001b[1;33m:\u001b[0m\u001b[1;33m\u001b[0m\u001b[1;33m\u001b[0m\u001b[0m\n\u001b[0;32m    496\u001b[0m             \u001b[1;32mfor\u001b[0m \u001b[0mobj\u001b[0m \u001b[1;32min\u001b[0m \u001b[0mdata\u001b[0m\u001b[1;33m:\u001b[0m\u001b[1;33m\u001b[0m\u001b[1;33m\u001b[0m\u001b[0m\n\u001b[1;32m--> 497\u001b[1;33m                 \u001b[0mrecs\u001b[0m \u001b[1;33m=\u001b[0m \u001b[0m_pull_records\u001b[0m\u001b[1;33m(\u001b[0m\u001b[0mobj\u001b[0m\u001b[1;33m,\u001b[0m \u001b[0mpath\u001b[0m\u001b[1;33m[\u001b[0m\u001b[1;36m0\u001b[0m\u001b[1;33m]\u001b[0m\u001b[1;33m)\u001b[0m\u001b[1;33m\u001b[0m\u001b[1;33m\u001b[0m\u001b[0m\n\u001b[0m\u001b[0;32m    498\u001b[0m                 recs = [\n\u001b[0;32m    499\u001b[0m                     \u001b[0mnested_to_record\u001b[0m\u001b[1;33m(\u001b[0m\u001b[0mr\u001b[0m\u001b[1;33m,\u001b[0m \u001b[0msep\u001b[0m\u001b[1;33m=\u001b[0m\u001b[0msep\u001b[0m\u001b[1;33m,\u001b[0m \u001b[0mmax_level\u001b[0m\u001b[1;33m=\u001b[0m\u001b[0mmax_level\u001b[0m\u001b[1;33m)\u001b[0m\u001b[1;33m\u001b[0m\u001b[1;33m\u001b[0m\u001b[0m\n",
      "\u001b[1;32m~\\anaconda3\\lib\\site-packages\\pandas\\io\\json\\_normalize.py\u001b[0m in \u001b[0;36m_pull_records\u001b[1;34m(js, spec)\u001b[0m\n\u001b[0;32m    417\u001b[0m         \u001b[1;32mif\u001b[0m \u001b[0mhas\u001b[0m \u001b[0mnon\u001b[0m \u001b[0miterable\u001b[0m \u001b[0mvalue\u001b[0m\u001b[1;33m.\u001b[0m\u001b[1;33m\u001b[0m\u001b[1;33m\u001b[0m\u001b[0m\n\u001b[0;32m    418\u001b[0m         \"\"\"\n\u001b[1;32m--> 419\u001b[1;33m         \u001b[0mresult\u001b[0m \u001b[1;33m=\u001b[0m \u001b[0m_pull_field\u001b[0m\u001b[1;33m(\u001b[0m\u001b[0mjs\u001b[0m\u001b[1;33m,\u001b[0m \u001b[0mspec\u001b[0m\u001b[1;33m,\u001b[0m \u001b[0mextract_record\u001b[0m\u001b[1;33m=\u001b[0m\u001b[1;32mTrue\u001b[0m\u001b[1;33m)\u001b[0m\u001b[1;33m\u001b[0m\u001b[1;33m\u001b[0m\u001b[0m\n\u001b[0m\u001b[0;32m    420\u001b[0m \u001b[1;33m\u001b[0m\u001b[0m\n\u001b[0;32m    421\u001b[0m         \u001b[1;31m# GH 31507 GH 30145, GH 26284 if result is not list, raise TypeError if not\u001b[0m\u001b[1;33m\u001b[0m\u001b[1;33m\u001b[0m\u001b[0m\n",
      "\u001b[1;32m~\\anaconda3\\lib\\site-packages\\pandas\\io\\json\\_normalize.py\u001b[0m in \u001b[0;36m_pull_field\u001b[1;34m(js, spec, extract_record)\u001b[0m\n\u001b[0;32m    394\u001b[0m                     \u001b[0mresult\u001b[0m \u001b[1;33m=\u001b[0m \u001b[0mresult\u001b[0m\u001b[1;33m[\u001b[0m\u001b[0mfield\u001b[0m\u001b[1;33m]\u001b[0m\u001b[1;33m\u001b[0m\u001b[1;33m\u001b[0m\u001b[0m\n\u001b[0;32m    395\u001b[0m             \u001b[1;32melse\u001b[0m\u001b[1;33m:\u001b[0m\u001b[1;33m\u001b[0m\u001b[1;33m\u001b[0m\u001b[0m\n\u001b[1;32m--> 396\u001b[1;33m                 \u001b[0mresult\u001b[0m \u001b[1;33m=\u001b[0m \u001b[0mresult\u001b[0m\u001b[1;33m[\u001b[0m\u001b[0mspec\u001b[0m\u001b[1;33m]\u001b[0m\u001b[1;33m\u001b[0m\u001b[1;33m\u001b[0m\u001b[0m\n\u001b[0m\u001b[0;32m    397\u001b[0m         \u001b[1;32mexcept\u001b[0m \u001b[0mKeyError\u001b[0m \u001b[1;32mas\u001b[0m \u001b[0me\u001b[0m\u001b[1;33m:\u001b[0m\u001b[1;33m\u001b[0m\u001b[1;33m\u001b[0m\u001b[0m\n\u001b[0;32m    398\u001b[0m             \u001b[1;32mif\u001b[0m \u001b[0mextract_record\u001b[0m\u001b[1;33m:\u001b[0m\u001b[1;33m\u001b[0m\u001b[1;33m\u001b[0m\u001b[0m\n",
      "\u001b[1;31mTypeError\u001b[0m: string indices must be integers"
     ]
    }
   ],
   "source": [
    "\n",
    "# Normalize the \"address\" and \"hobbies\" nested data\n",
    "Additional_details = pd.json_normalize(data, record_path=[\"Additional_details\"], meta=[\"_id\"])\n",
    "Technical_details = pd.json_normalize(data, record_path=[\"Technical_details\"], meta=[\"_id\"])\n",
    "\n",
    "TypeError: string indices must be integers\n"
   ]
  },
  {
   "cell_type": "code",
   "execution_count": 17,
   "id": "a1adcf69",
   "metadata": {},
   "outputs": [
    {
     "name": "stdout",
     "output_type": "stream",
     "text": [
      "Memory usage: 4.72 MB\n"
     ]
    }
   ],
   "source": [
    "# get the memory usage of each column\n",
    "mem_usage = df.memory_usage(deep=True).sum()\n",
    "\n",
    "# get the total memory usage\n",
    "total_mem_usage = mem_usage.sum()\n",
    "\n",
    "print(f\"Memory usage: {mem_usage / 1024 / 1024:.2f} MB\")"
   ]
  },
  {
   "cell_type": "code",
   "execution_count": 15,
   "id": "a3764809",
   "metadata": {},
   "outputs": [],
   "source": [
    "from bson import ObjectId\n",
    "# Fetch data from collection\n",
    "data = list(db.cols.find())\n",
    "\n",
    "# Convert _id field to ObjectId\n",
    "for item in data:\n",
    "    item['_id'] = ObjectId(str(item['_id']))"
   ]
  },
  {
   "cell_type": "code",
   "execution_count": 11,
   "id": "9022ec65-cdb1-4fd7-9749-be313849130a",
   "metadata": {},
   "outputs": [
    {
     "ename": "TypeError",
     "evalue": "{'_id': ObjectId('643436e3a805f2aba00f3a7b'), 'Name': 'Redmi 12C (Lavender Purple, 6GB RAM, 128GB Storage)', 'Price': 10999.0, 'Stars': 0, 'Ratings': 0, 'Answered_Questions': 0, 'Amazon_Services': '[\"Free Delivery\", \"Pay on Delivery\", \"7 days Replacement\", \"1 Year Warranty\", \"Top Brand\", \"Amazon Delivered\", \"Secure transaction\"]', 'Description': '[\"Processor: High performance MediaTek Helio G85,upto 2Ghz; Enhanced gaming with 1GHz GPU | 6+5GB(Virtual RAM) LPDDR4x\", \"Camera: 50MP f/1.8 AI Dual camera with Portrait mode & Night Mode | 5MP Selfie camera\", \"Display: Large 17cm HD+ display with Scratch resistant Glass and Oleophobic coating | 500nits peak brightness\", \"5000mAh(typ) battery with 10W charger in-box\", \"Dual band Wifi support ensures better throughput and connectivity\"]', 'Technical_details': {'OS': 'MIUI 13, Android 12.0', 'RAM': '128 GB', 'Product_Dimensions': '16.9 x 7.6 x 0.9 cm; 192 Grams', 'Batteries': '1 Lithium Polymer batteries required. (included)', 'Wireless_communication_technologies': 'Wi-Fi', 'Connectivity_technologies': 'Bluetooth, Wi-Fi, USB', 'GPS': 'GPS/AGPS,Glonass, Beidou, Galileo', 'Special_features': 'IP52 rating, Dedicated card slot, 50MP Primary sensor f/1.8 1.28 um (4-in-1 super pixel) with the following modes: Portrait | Night | Video | 50MP mode | Time-lapse | Movie frame | HDR | Google lens, MIUI Dialer, Rear Fingerprint sensor', 'Other_display_features': 'Wireless', 'Device_interface_-_primary': 'Touchscreen', 'Other_camera_features': 'Rear, Front', 'Audio_Jack': '3.5 mm', 'Form_factor': 'Bar', 'Colour': 'Lavender Purple', 'Battery_Power_Rating': '5000', 'Phone_Talk_Time': '39 Hours', 'Phone_Standby_Time_(with_data)': '680 Hours', 'Whats_in_the_box': 'Power Adapter, SIM Tray Ejector, USB Cable', 'Manufacturer': 'Redmi', 'Country_of_Origin': 'India', 'Item_Weight': '192 g'}, 'Additional_details': {'ASIN': 'B0BYN4LFT6', 'Best_Sellers_Rank': '#183 in Electronics (See Top 100 in Electronics) #37 in Smartphones', 'Date_First_Available': '16 July 2022', 'Manufacturer': 'Redmi, Bharat FIH limited , #380,BELERICA ROAD,SRI CITY,SIDDAM AGRAHARAM VILLAGE,VARADAIAHPALEM MANDAL,CHITTOOR DISTRICT-517541,ANDHRA PRADESH', 'Packer': 'Bharat FIH limited , #380,BELERICA ROAD,SRI CITY,SIDDAM AGRAHARAM VILLAGE,VARADAIAHPALEM MANDAL,CHITTOOR DISTRICT-517541,ANDHRA PRADESH', 'Importer': 'Xiaomi Technology India Private Limited, Building Orchid. Block E, Embassy Tech Village, Marathahalli Outer Ring Road, Devarabisanahalli, Bengaluru 560103', 'Item_Dimensions_LxWxH': '16.9 x 7.6 x 0.9 Centimeters', 'Net_Quantity': '192 Grams', 'Generic_Name': 'Smartphone'}, 'Link': 'https://www.amazon.in/sspa/click?ie=UTF8&spc=MTozMTIwNTU2MDkxMzQ3NjY6MTY4MTE0MzUyMTpzcF9hdGY6MjAxNDI0NzEwNDE3OTg6OjA6Og&url=%2FRedmi-Lavender-Purple-128GB-Storage%2Fdp%2FB0BYN4LFT6%2Fref%3Dsr_1_1_sspa%3Fcrid%3D2C9GZV1PQRGTM%26keywords%3Dmobile%26qid%3D1681143521%26sprefix%3Dabc%252Caps%252C501%26sr%3D8-1-spons%26sp_csd%3Dd2lkZ2V0TmFtZT1zcF9hdGY%26psc%3D1', 'Page': 1, 'Date': '2023-04-10 21:48:40', 'Search': 'mobile'} has non list value {'ASIN': 'B0BYN4LFT6', 'Best_Sellers_Rank': '#183 in Electronics (See Top 100 in Electronics) #37 in Smartphones', 'Date_First_Available': '16 July 2022', 'Manufacturer': 'Redmi, Bharat FIH limited , #380,BELERICA ROAD,SRI CITY,SIDDAM AGRAHARAM VILLAGE,VARADAIAHPALEM MANDAL,CHITTOOR DISTRICT-517541,ANDHRA PRADESH', 'Packer': 'Bharat FIH limited , #380,BELERICA ROAD,SRI CITY,SIDDAM AGRAHARAM VILLAGE,VARADAIAHPALEM MANDAL,CHITTOOR DISTRICT-517541,ANDHRA PRADESH', 'Importer': 'Xiaomi Technology India Private Limited, Building Orchid. Block E, Embassy Tech Village, Marathahalli Outer Ring Road, Devarabisanahalli, Bengaluru 560103', 'Item_Dimensions_LxWxH': '16.9 x 7.6 x 0.9 Centimeters', 'Net_Quantity': '192 Grams', 'Generic_Name': 'Smartphone'} for path Additional_details. Must be list or null.",
     "output_type": "error",
     "traceback": [
      "\u001b[1;31m---------------------------------------------------------------------------\u001b[0m",
      "\u001b[1;31mTypeError\u001b[0m                                 Traceback (most recent call last)",
      "\u001b[1;32m~\\AppData\\Local\\Temp\\ipykernel_384\\1292567024.py\u001b[0m in \u001b[0;36m<module>\u001b[1;34m\u001b[0m\n\u001b[1;32m----> 1\u001b[1;33m \u001b[0mAdditional_details\u001b[0m \u001b[1;33m=\u001b[0m \u001b[0mpd\u001b[0m\u001b[1;33m.\u001b[0m\u001b[0mjson_normalize\u001b[0m\u001b[1;33m(\u001b[0m\u001b[0mdata\u001b[0m\u001b[1;33m,\u001b[0m \u001b[0mrecord_path\u001b[0m\u001b[1;33m=\u001b[0m\u001b[1;33m[\u001b[0m\u001b[1;34m\"Additional_details\"\u001b[0m\u001b[1;33m]\u001b[0m\u001b[1;33m,\u001b[0m \u001b[0mmeta\u001b[0m\u001b[1;33m=\u001b[0m\u001b[1;33m[\u001b[0m\u001b[1;34m\"_id\"\u001b[0m\u001b[1;33m]\u001b[0m\u001b[1;33m)\u001b[0m\u001b[1;33m\u001b[0m\u001b[1;33m\u001b[0m\u001b[0m\n\u001b[0m\u001b[0;32m      2\u001b[0m \u001b[0mTechnical_details\u001b[0m \u001b[1;33m=\u001b[0m \u001b[0mpd\u001b[0m\u001b[1;33m.\u001b[0m\u001b[0mjson_normalize\u001b[0m\u001b[1;33m(\u001b[0m\u001b[0mdata\u001b[0m\u001b[1;33m,\u001b[0m \u001b[0mrecord_path\u001b[0m\u001b[1;33m=\u001b[0m\u001b[1;33m[\u001b[0m\u001b[1;34m\"Technical_details\"\u001b[0m\u001b[1;33m]\u001b[0m\u001b[1;33m,\u001b[0m \u001b[0mmeta\u001b[0m\u001b[1;33m=\u001b[0m\u001b[1;33m[\u001b[0m\u001b[1;34m\"_id\"\u001b[0m\u001b[1;33m]\u001b[0m\u001b[1;33m)\u001b[0m\u001b[1;33m\u001b[0m\u001b[1;33m\u001b[0m\u001b[0m\n",
      "\u001b[1;32m~\\anaconda3\\lib\\site-packages\\pandas\\io\\json\\_normalize.py\u001b[0m in \u001b[0;36m_json_normalize\u001b[1;34m(data, record_path, meta, meta_prefix, record_prefix, errors, sep, max_level)\u001b[0m\n\u001b[0;32m    513\u001b[0m                 \u001b[0mrecords\u001b[0m\u001b[1;33m.\u001b[0m\u001b[0mextend\u001b[0m\u001b[1;33m(\u001b[0m\u001b[0mrecs\u001b[0m\u001b[1;33m)\u001b[0m\u001b[1;33m\u001b[0m\u001b[1;33m\u001b[0m\u001b[0m\n\u001b[0;32m    514\u001b[0m \u001b[1;33m\u001b[0m\u001b[0m\n\u001b[1;32m--> 515\u001b[1;33m     \u001b[0m_recursive_extract\u001b[0m\u001b[1;33m(\u001b[0m\u001b[0mdata\u001b[0m\u001b[1;33m,\u001b[0m \u001b[0mrecord_path\u001b[0m\u001b[1;33m,\u001b[0m \u001b[1;33m{\u001b[0m\u001b[1;33m}\u001b[0m\u001b[1;33m,\u001b[0m \u001b[0mlevel\u001b[0m\u001b[1;33m=\u001b[0m\u001b[1;36m0\u001b[0m\u001b[1;33m)\u001b[0m\u001b[1;33m\u001b[0m\u001b[1;33m\u001b[0m\u001b[0m\n\u001b[0m\u001b[0;32m    516\u001b[0m \u001b[1;33m\u001b[0m\u001b[0m\n\u001b[0;32m    517\u001b[0m     \u001b[0mresult\u001b[0m \u001b[1;33m=\u001b[0m \u001b[0mDataFrame\u001b[0m\u001b[1;33m(\u001b[0m\u001b[0mrecords\u001b[0m\u001b[1;33m)\u001b[0m\u001b[1;33m\u001b[0m\u001b[1;33m\u001b[0m\u001b[0m\n",
      "\u001b[1;32m~\\anaconda3\\lib\\site-packages\\pandas\\io\\json\\_normalize.py\u001b[0m in \u001b[0;36m_recursive_extract\u001b[1;34m(data, path, seen_meta, level)\u001b[0m\n\u001b[0;32m    495\u001b[0m         \u001b[1;32melse\u001b[0m\u001b[1;33m:\u001b[0m\u001b[1;33m\u001b[0m\u001b[1;33m\u001b[0m\u001b[0m\n\u001b[0;32m    496\u001b[0m             \u001b[1;32mfor\u001b[0m \u001b[0mobj\u001b[0m \u001b[1;32min\u001b[0m \u001b[0mdata\u001b[0m\u001b[1;33m:\u001b[0m\u001b[1;33m\u001b[0m\u001b[1;33m\u001b[0m\u001b[0m\n\u001b[1;32m--> 497\u001b[1;33m                 \u001b[0mrecs\u001b[0m \u001b[1;33m=\u001b[0m \u001b[0m_pull_records\u001b[0m\u001b[1;33m(\u001b[0m\u001b[0mobj\u001b[0m\u001b[1;33m,\u001b[0m \u001b[0mpath\u001b[0m\u001b[1;33m[\u001b[0m\u001b[1;36m0\u001b[0m\u001b[1;33m]\u001b[0m\u001b[1;33m)\u001b[0m\u001b[1;33m\u001b[0m\u001b[1;33m\u001b[0m\u001b[0m\n\u001b[0m\u001b[0;32m    498\u001b[0m                 recs = [\n\u001b[0;32m    499\u001b[0m                     \u001b[0mnested_to_record\u001b[0m\u001b[1;33m(\u001b[0m\u001b[0mr\u001b[0m\u001b[1;33m,\u001b[0m \u001b[0msep\u001b[0m\u001b[1;33m=\u001b[0m\u001b[0msep\u001b[0m\u001b[1;33m,\u001b[0m \u001b[0mmax_level\u001b[0m\u001b[1;33m=\u001b[0m\u001b[0mmax_level\u001b[0m\u001b[1;33m)\u001b[0m\u001b[1;33m\u001b[0m\u001b[1;33m\u001b[0m\u001b[0m\n",
      "\u001b[1;32m~\\anaconda3\\lib\\site-packages\\pandas\\io\\json\\_normalize.py\u001b[0m in \u001b[0;36m_pull_records\u001b[1;34m(js, spec)\u001b[0m\n\u001b[0;32m    425\u001b[0m                 \u001b[0mresult\u001b[0m \u001b[1;33m=\u001b[0m \u001b[1;33m[\u001b[0m\u001b[1;33m]\u001b[0m\u001b[1;33m\u001b[0m\u001b[1;33m\u001b[0m\u001b[0m\n\u001b[0;32m    426\u001b[0m             \u001b[1;32melse\u001b[0m\u001b[1;33m:\u001b[0m\u001b[1;33m\u001b[0m\u001b[1;33m\u001b[0m\u001b[0m\n\u001b[1;32m--> 427\u001b[1;33m                 raise TypeError(\n\u001b[0m\u001b[0;32m    428\u001b[0m                     \u001b[1;34mf\"{js} has non list value {result} for path {spec}. \"\u001b[0m\u001b[1;33m\u001b[0m\u001b[1;33m\u001b[0m\u001b[0m\n\u001b[0;32m    429\u001b[0m                     \u001b[1;34m\"Must be list or null.\"\u001b[0m\u001b[1;33m\u001b[0m\u001b[1;33m\u001b[0m\u001b[0m\n",
      "\u001b[1;31mTypeError\u001b[0m: {'_id': ObjectId('643436e3a805f2aba00f3a7b'), 'Name': 'Redmi 12C (Lavender Purple, 6GB RAM, 128GB Storage)', 'Price': 10999.0, 'Stars': 0, 'Ratings': 0, 'Answered_Questions': 0, 'Amazon_Services': '[\"Free Delivery\", \"Pay on Delivery\", \"7 days Replacement\", \"1 Year Warranty\", \"Top Brand\", \"Amazon Delivered\", \"Secure transaction\"]', 'Description': '[\"Processor: High performance MediaTek Helio G85,upto 2Ghz; Enhanced gaming with 1GHz GPU | 6+5GB(Virtual RAM) LPDDR4x\", \"Camera: 50MP f/1.8 AI Dual camera with Portrait mode & Night Mode | 5MP Selfie camera\", \"Display: Large 17cm HD+ display with Scratch resistant Glass and Oleophobic coating | 500nits peak brightness\", \"5000mAh(typ) battery with 10W charger in-box\", \"Dual band Wifi support ensures better throughput and connectivity\"]', 'Technical_details': {'OS': 'MIUI 13, Android 12.0', 'RAM': '128 GB', 'Product_Dimensions': '16.9 x 7.6 x 0.9 cm; 192 Grams', 'Batteries': '1 Lithium Polymer batteries required. (included)', 'Wireless_communication_technologies': 'Wi-Fi', 'Connectivity_technologies': 'Bluetooth, Wi-Fi, USB', 'GPS': 'GPS/AGPS,Glonass, Beidou, Galileo', 'Special_features': 'IP52 rating, Dedicated card slot, 50MP Primary sensor f/1.8 1.28 um (4-in-1 super pixel) with the following modes: Portrait | Night | Video | 50MP mode | Time-lapse | Movie frame | HDR | Google lens, MIUI Dialer, Rear Fingerprint sensor', 'Other_display_features': 'Wireless', 'Device_interface_-_primary': 'Touchscreen', 'Other_camera_features': 'Rear, Front', 'Audio_Jack': '3.5 mm', 'Form_factor': 'Bar', 'Colour': 'Lavender Purple', 'Battery_Power_Rating': '5000', 'Phone_Talk_Time': '39 Hours', 'Phone_Standby_Time_(with_data)': '680 Hours', 'Whats_in_the_box': 'Power Adapter, SIM Tray Ejector, USB Cable', 'Manufacturer': 'Redmi', 'Country_of_Origin': 'India', 'Item_Weight': '192 g'}, 'Additional_details': {'ASIN': 'B0BYN4LFT6', 'Best_Sellers_Rank': '#183 in Electronics (See Top 100 in Electronics) #37 in Smartphones', 'Date_First_Available': '16 July 2022', 'Manufacturer': 'Redmi, Bharat FIH limited , #380,BELERICA ROAD,SRI CITY,SIDDAM AGRAHARAM VILLAGE,VARADAIAHPALEM MANDAL,CHITTOOR DISTRICT-517541,ANDHRA PRADESH', 'Packer': 'Bharat FIH limited , #380,BELERICA ROAD,SRI CITY,SIDDAM AGRAHARAM VILLAGE,VARADAIAHPALEM MANDAL,CHITTOOR DISTRICT-517541,ANDHRA PRADESH', 'Importer': 'Xiaomi Technology India Private Limited, Building Orchid. Block E, Embassy Tech Village, Marathahalli Outer Ring Road, Devarabisanahalli, Bengaluru 560103', 'Item_Dimensions_LxWxH': '16.9 x 7.6 x 0.9 Centimeters', 'Net_Quantity': '192 Grams', 'Generic_Name': 'Smartphone'}, 'Link': 'https://www.amazon.in/sspa/click?ie=UTF8&spc=MTozMTIwNTU2MDkxMzQ3NjY6MTY4MTE0MzUyMTpzcF9hdGY6MjAxNDI0NzEwNDE3OTg6OjA6Og&url=%2FRedmi-Lavender-Purple-128GB-Storage%2Fdp%2FB0BYN4LFT6%2Fref%3Dsr_1_1_sspa%3Fcrid%3D2C9GZV1PQRGTM%26keywords%3Dmobile%26qid%3D1681143521%26sprefix%3Dabc%252Caps%252C501%26sr%3D8-1-spons%26sp_csd%3Dd2lkZ2V0TmFtZT1zcF9hdGY%26psc%3D1', 'Page': 1, 'Date': '2023-04-10 21:48:40', 'Search': 'mobile'} has non list value {'ASIN': 'B0BYN4LFT6', 'Best_Sellers_Rank': '#183 in Electronics (See Top 100 in Electronics) #37 in Smartphones', 'Date_First_Available': '16 July 2022', 'Manufacturer': 'Redmi, Bharat FIH limited , #380,BELERICA ROAD,SRI CITY,SIDDAM AGRAHARAM VILLAGE,VARADAIAHPALEM MANDAL,CHITTOOR DISTRICT-517541,ANDHRA PRADESH', 'Packer': 'Bharat FIH limited , #380,BELERICA ROAD,SRI CITY,SIDDAM AGRAHARAM VILLAGE,VARADAIAHPALEM MANDAL,CHITTOOR DISTRICT-517541,ANDHRA PRADESH', 'Importer': 'Xiaomi Technology India Private Limited, Building Orchid. Block E, Embassy Tech Village, Marathahalli Outer Ring Road, Devarabisanahalli, Bengaluru 560103', 'Item_Dimensions_LxWxH': '16.9 x 7.6 x 0.9 Centimeters', 'Net_Quantity': '192 Grams', 'Generic_Name': 'Smartphone'} for path Additional_details. Must be list or null."
     ]
    }
   ],
   "source": [
    "Additional_details = pd.json_normalize(data, record_path=[\"Additional_details\"], meta=[\"_id\"])\n",
    "Technical_details = pd.json_normalize(data, record_path=[\"Technical_details\"], meta=[\"_id\"])\n"
   ]
  },
  {
   "cell_type": "code",
   "execution_count": 14,
   "id": "5c68faaa-060c-495b-9e47-04359ce737ef",
   "metadata": {},
   "outputs": [
    {
     "data": {
      "text/plain": [
       "{'_id': ObjectId('643436e3a805f2aba00f3a7b'),\n",
       " 'Name': 'Redmi 12C (Lavender Purple, 6GB RAM, 128GB Storage)',\n",
       " 'Price': 10999.0,\n",
       " 'Stars': 0,\n",
       " 'Ratings': 0,\n",
       " 'Answered_Questions': 0,\n",
       " 'Amazon_Services': '[\"Free Delivery\", \"Pay on Delivery\", \"7 days Replacement\", \"1 Year Warranty\", \"Top Brand\", \"Amazon Delivered\", \"Secure transaction\"]',\n",
       " 'Description': '[\"Processor: High performance MediaTek Helio G85,upto 2Ghz; Enhanced gaming with 1GHz GPU | 6+5GB(Virtual RAM) LPDDR4x\", \"Camera: 50MP f/1.8 AI Dual camera with Portrait mode & Night Mode | 5MP Selfie camera\", \"Display: Large 17cm HD+ display with Scratch resistant Glass and Oleophobic coating | 500nits peak brightness\", \"5000mAh(typ) battery with 10W charger in-box\", \"Dual band Wifi support ensures better throughput and connectivity\"]',\n",
       " 'Technical_details': {'OS': 'MIUI 13, Android 12.0',\n",
       "  'RAM': '128 GB',\n",
       "  'Product_Dimensions': '16.9 x 7.6 x 0.9 cm; 192 Grams',\n",
       "  'Batteries': '1 Lithium Polymer batteries required. (included)',\n",
       "  'Wireless_communication_technologies': 'Wi-Fi',\n",
       "  'Connectivity_technologies': 'Bluetooth, Wi-Fi, USB',\n",
       "  'GPS': 'GPS/AGPS,Glonass, Beidou, Galileo',\n",
       "  'Special_features': 'IP52 rating, Dedicated card slot, 50MP Primary sensor f/1.8 1.28 um (4-in-1 super pixel) with the following modes: Portrait | Night | Video | 50MP mode | Time-lapse | Movie frame | HDR | Google lens, MIUI Dialer, Rear Fingerprint sensor',\n",
       "  'Other_display_features': 'Wireless',\n",
       "  'Device_interface_-_primary': 'Touchscreen',\n",
       "  'Other_camera_features': 'Rear, Front',\n",
       "  'Audio_Jack': '3.5 mm',\n",
       "  'Form_factor': 'Bar',\n",
       "  'Colour': 'Lavender Purple',\n",
       "  'Battery_Power_Rating': '5000',\n",
       "  'Phone_Talk_Time': '39 Hours',\n",
       "  'Phone_Standby_Time_(with_data)': '680 Hours',\n",
       "  'Whats_in_the_box': 'Power Adapter, SIM Tray Ejector, USB Cable',\n",
       "  'Manufacturer': 'Redmi',\n",
       "  'Country_of_Origin': 'India',\n",
       "  'Item_Weight': '192 g'},\n",
       " 'Additional_details': {'ASIN': 'B0BYN4LFT6',\n",
       "  'Best_Sellers_Rank': '#183 in Electronics (See Top 100 in Electronics) #37 in Smartphones',\n",
       "  'Date_First_Available': '16 July 2022',\n",
       "  'Manufacturer': 'Redmi, Bharat FIH limited , #380,BELERICA ROAD,SRI CITY,SIDDAM AGRAHARAM VILLAGE,VARADAIAHPALEM MANDAL,CHITTOOR DISTRICT-517541,ANDHRA PRADESH',\n",
       "  'Packer': 'Bharat FIH limited , #380,BELERICA ROAD,SRI CITY,SIDDAM AGRAHARAM VILLAGE,VARADAIAHPALEM MANDAL,CHITTOOR DISTRICT-517541,ANDHRA PRADESH',\n",
       "  'Importer': 'Xiaomi Technology India Private Limited, Building Orchid. Block E, Embassy Tech Village, Marathahalli Outer Ring Road, Devarabisanahalli, Bengaluru 560103',\n",
       "  'Item_Dimensions_LxWxH': '16.9 x 7.6 x 0.9 Centimeters',\n",
       "  'Net_Quantity': '192 Grams',\n",
       "  'Generic_Name': 'Smartphone'},\n",
       " 'Link': 'https://www.amazon.in/sspa/click?ie=UTF8&spc=MTozMTIwNTU2MDkxMzQ3NjY6MTY4MTE0MzUyMTpzcF9hdGY6MjAxNDI0NzEwNDE3OTg6OjA6Og&url=%2FRedmi-Lavender-Purple-128GB-Storage%2Fdp%2FB0BYN4LFT6%2Fref%3Dsr_1_1_sspa%3Fcrid%3D2C9GZV1PQRGTM%26keywords%3Dmobile%26qid%3D1681143521%26sprefix%3Dabc%252Caps%252C501%26sr%3D8-1-spons%26sp_csd%3Dd2lkZ2V0TmFtZT1zcF9hdGY%26psc%3D1',\n",
       " 'Page': 1,\n",
       " 'Date': '2023-04-10 21:48:40',\n",
       " 'Search': 'mobile'}"
      ]
     },
     "execution_count": 14,
     "metadata": {},
     "output_type": "execute_result"
    }
   ],
   "source": [
    "data[0]"
   ]
  },
  {
   "cell_type": "code",
   "execution_count": 18,
   "id": "2a717b89-fd8b-4d12-9742-8ab5e5d20631",
   "metadata": {},
   "outputs": [
    {
     "ename": "TypeError",
     "evalue": "Object of type ObjectId is not JSON serializable",
     "output_type": "error",
     "traceback": [
      "\u001b[1;31m---------------------------------------------------------------------------\u001b[0m",
      "\u001b[1;31mTypeError\u001b[0m                                 Traceback (most recent call last)",
      "\u001b[1;32m~\\AppData\\Local\\Temp\\ipykernel_384\\2141391614.py\u001b[0m in \u001b[0;36m<module>\u001b[1;34m\u001b[0m\n\u001b[1;32m----> 1\u001b[1;33m \u001b[0mjson_string\u001b[0m \u001b[1;33m=\u001b[0m \u001b[0mjson\u001b[0m\u001b[1;33m.\u001b[0m\u001b[0mdumps\u001b[0m\u001b[1;33m(\u001b[0m\u001b[0mdb\u001b[0m\u001b[1;33m.\u001b[0m\u001b[0mcols\u001b[0m\u001b[1;33m.\u001b[0m\u001b[0mfind_one\u001b[0m\u001b[1;33m(\u001b[0m\u001b[1;33m)\u001b[0m\u001b[1;33m)\u001b[0m\u001b[1;33m\u001b[0m\u001b[1;33m\u001b[0m\u001b[0m\n\u001b[0m",
      "\u001b[1;32m~\\anaconda3\\lib\\json\\__init__.py\u001b[0m in \u001b[0;36mdumps\u001b[1;34m(obj, skipkeys, ensure_ascii, check_circular, allow_nan, cls, indent, separators, default, sort_keys, **kw)\u001b[0m\n\u001b[0;32m    229\u001b[0m         \u001b[0mcls\u001b[0m \u001b[1;32mis\u001b[0m \u001b[1;32mNone\u001b[0m \u001b[1;32mand\u001b[0m \u001b[0mindent\u001b[0m \u001b[1;32mis\u001b[0m \u001b[1;32mNone\u001b[0m \u001b[1;32mand\u001b[0m \u001b[0mseparators\u001b[0m \u001b[1;32mis\u001b[0m \u001b[1;32mNone\u001b[0m \u001b[1;32mand\u001b[0m\u001b[1;33m\u001b[0m\u001b[1;33m\u001b[0m\u001b[0m\n\u001b[0;32m    230\u001b[0m         default is None and not sort_keys and not kw):\n\u001b[1;32m--> 231\u001b[1;33m         \u001b[1;32mreturn\u001b[0m \u001b[0m_default_encoder\u001b[0m\u001b[1;33m.\u001b[0m\u001b[0mencode\u001b[0m\u001b[1;33m(\u001b[0m\u001b[0mobj\u001b[0m\u001b[1;33m)\u001b[0m\u001b[1;33m\u001b[0m\u001b[1;33m\u001b[0m\u001b[0m\n\u001b[0m\u001b[0;32m    232\u001b[0m     \u001b[1;32mif\u001b[0m \u001b[0mcls\u001b[0m \u001b[1;32mis\u001b[0m \u001b[1;32mNone\u001b[0m\u001b[1;33m:\u001b[0m\u001b[1;33m\u001b[0m\u001b[1;33m\u001b[0m\u001b[0m\n\u001b[0;32m    233\u001b[0m         \u001b[0mcls\u001b[0m \u001b[1;33m=\u001b[0m \u001b[0mJSONEncoder\u001b[0m\u001b[1;33m\u001b[0m\u001b[1;33m\u001b[0m\u001b[0m\n",
      "\u001b[1;32m~\\anaconda3\\lib\\json\\encoder.py\u001b[0m in \u001b[0;36mencode\u001b[1;34m(self, o)\u001b[0m\n\u001b[0;32m    197\u001b[0m         \u001b[1;31m# exceptions aren't as detailed.  The list call should be roughly\u001b[0m\u001b[1;33m\u001b[0m\u001b[1;33m\u001b[0m\u001b[0m\n\u001b[0;32m    198\u001b[0m         \u001b[1;31m# equivalent to the PySequence_Fast that ''.join() would do.\u001b[0m\u001b[1;33m\u001b[0m\u001b[1;33m\u001b[0m\u001b[0m\n\u001b[1;32m--> 199\u001b[1;33m         \u001b[0mchunks\u001b[0m \u001b[1;33m=\u001b[0m \u001b[0mself\u001b[0m\u001b[1;33m.\u001b[0m\u001b[0miterencode\u001b[0m\u001b[1;33m(\u001b[0m\u001b[0mo\u001b[0m\u001b[1;33m,\u001b[0m \u001b[0m_one_shot\u001b[0m\u001b[1;33m=\u001b[0m\u001b[1;32mTrue\u001b[0m\u001b[1;33m)\u001b[0m\u001b[1;33m\u001b[0m\u001b[1;33m\u001b[0m\u001b[0m\n\u001b[0m\u001b[0;32m    200\u001b[0m         \u001b[1;32mif\u001b[0m \u001b[1;32mnot\u001b[0m \u001b[0misinstance\u001b[0m\u001b[1;33m(\u001b[0m\u001b[0mchunks\u001b[0m\u001b[1;33m,\u001b[0m \u001b[1;33m(\u001b[0m\u001b[0mlist\u001b[0m\u001b[1;33m,\u001b[0m \u001b[0mtuple\u001b[0m\u001b[1;33m)\u001b[0m\u001b[1;33m)\u001b[0m\u001b[1;33m:\u001b[0m\u001b[1;33m\u001b[0m\u001b[1;33m\u001b[0m\u001b[0m\n\u001b[0;32m    201\u001b[0m             \u001b[0mchunks\u001b[0m \u001b[1;33m=\u001b[0m \u001b[0mlist\u001b[0m\u001b[1;33m(\u001b[0m\u001b[0mchunks\u001b[0m\u001b[1;33m)\u001b[0m\u001b[1;33m\u001b[0m\u001b[1;33m\u001b[0m\u001b[0m\n",
      "\u001b[1;32m~\\anaconda3\\lib\\json\\encoder.py\u001b[0m in \u001b[0;36miterencode\u001b[1;34m(self, o, _one_shot)\u001b[0m\n\u001b[0;32m    255\u001b[0m                 \u001b[0mself\u001b[0m\u001b[1;33m.\u001b[0m\u001b[0mkey_separator\u001b[0m\u001b[1;33m,\u001b[0m \u001b[0mself\u001b[0m\u001b[1;33m.\u001b[0m\u001b[0mitem_separator\u001b[0m\u001b[1;33m,\u001b[0m \u001b[0mself\u001b[0m\u001b[1;33m.\u001b[0m\u001b[0msort_keys\u001b[0m\u001b[1;33m,\u001b[0m\u001b[1;33m\u001b[0m\u001b[1;33m\u001b[0m\u001b[0m\n\u001b[0;32m    256\u001b[0m                 self.skipkeys, _one_shot)\n\u001b[1;32m--> 257\u001b[1;33m         \u001b[1;32mreturn\u001b[0m \u001b[0m_iterencode\u001b[0m\u001b[1;33m(\u001b[0m\u001b[0mo\u001b[0m\u001b[1;33m,\u001b[0m \u001b[1;36m0\u001b[0m\u001b[1;33m)\u001b[0m\u001b[1;33m\u001b[0m\u001b[1;33m\u001b[0m\u001b[0m\n\u001b[0m\u001b[0;32m    258\u001b[0m \u001b[1;33m\u001b[0m\u001b[0m\n\u001b[0;32m    259\u001b[0m def _make_iterencode(markers, _default, _encoder, _indent, _floatstr,\n",
      "\u001b[1;32m~\\anaconda3\\lib\\json\\encoder.py\u001b[0m in \u001b[0;36mdefault\u001b[1;34m(self, o)\u001b[0m\n\u001b[0;32m    177\u001b[0m \u001b[1;33m\u001b[0m\u001b[0m\n\u001b[0;32m    178\u001b[0m         \"\"\"\n\u001b[1;32m--> 179\u001b[1;33m         raise TypeError(f'Object of type {o.__class__.__name__} '\n\u001b[0m\u001b[0;32m    180\u001b[0m                         f'is not JSON serializable')\n\u001b[0;32m    181\u001b[0m \u001b[1;33m\u001b[0m\u001b[0m\n",
      "\u001b[1;31mTypeError\u001b[0m: Object of type ObjectId is not JSON serializable"
     ]
    }
   ],
   "source": [
    "json_string = json.dumps(db.cols.find_one())\n",
    "TypeError: Object of type ObjectId is not JSON serializable"
   ]
  },
  {
   "cell_type": "code",
   "execution_count": 19,
   "id": "89b5ebf1-d91b-446d-8710-6680b5accd59",
   "metadata": {},
   "outputs": [],
   "source": [
    "from bson import ObjectId\n",
    "a= db.cols.find_one()\n"
   ]
  },
  {
   "cell_type": "code",
   "execution_count": 20,
   "id": "98a4fd9b-4f8c-4b5b-adc3-20a0ae4106ad",
   "metadata": {},
   "outputs": [],
   "source": [
    "a['_id'] = str(a['_id'])"
   ]
  },
  {
   "cell_type": "code",
   "execution_count": 24,
   "id": "703205a1-ea2a-4706-b5b0-6929f0cfeb86",
   "metadata": {},
   "outputs": [
    {
     "name": "stdout",
     "output_type": "stream",
     "text": [
      "{\"_id\": \"643436e3a805f2aba00f3a7b\", \"Name\": \"Redmi 12C (Lavender Purple, 6GB RAM, 128GB Storage)\", \"Price\": 10999.0, \"Stars\": 0, \"Ratings\": 0, \"Answered_Questions\": 0, \"Amazon_Services\": \"[\\\"Free Delivery\\\", \\\"Pay on Delivery\\\", \\\"7 days Replacement\\\", \\\"1 Year Warranty\\\", \\\"Top Brand\\\", \\\"Amazon Delivered\\\", \\\"Secure transaction\\\"]\", \"Description\": \"[\\\"Processor: High performance MediaTek Helio G85,upto 2Ghz; Enhanced gaming with 1GHz GPU | 6+5GB(Virtual RAM) LPDDR4x\\\", \\\"Camera: 50MP f/1.8 AI Dual camera with Portrait mode & Night Mode | 5MP Selfie camera\\\", \\\"Display: Large 17cm HD+ display with Scratch resistant Glass and Oleophobic coating | 500nits peak brightness\\\", \\\"5000mAh(typ) battery with 10W charger in-box\\\", \\\"Dual band Wifi support ensures better throughput and connectivity\\\"]\", \"Technical_details\": {\"OS\": \"MIUI 13, Android 12.0\", \"RAM\": \"128 GB\", \"Product_Dimensions\": \"16.9 x 7.6 x 0.9 cm; 192 Grams\", \"Batteries\": \"1 Lithium Polymer batteries required. (included)\", \"Wireless_communication_technologies\": \"Wi-Fi\", \"Connectivity_technologies\": \"Bluetooth, Wi-Fi, USB\", \"GPS\": \"GPS/AGPS,Glonass, Beidou, Galileo\", \"Special_features\": \"IP52 rating, Dedicated card slot, 50MP Primary sensor f/1.8 1.28 um (4-in-1 super pixel) with the following modes: Portrait | Night | Video | 50MP mode | Time-lapse | Movie frame | HDR | Google lens, MIUI Dialer, Rear Fingerprint sensor\", \"Other_display_features\": \"Wireless\", \"Device_interface_-_primary\": \"Touchscreen\", \"Other_camera_features\": \"Rear, Front\", \"Audio_Jack\": \"3.5 mm\", \"Form_factor\": \"Bar\", \"Colour\": \"Lavender Purple\", \"Battery_Power_Rating\": \"5000\", \"Phone_Talk_Time\": \"39 Hours\", \"Phone_Standby_Time_(with_data)\": \"680 Hours\", \"Whats_in_the_box\": \"Power Adapter, SIM Tray Ejector, USB Cable\", \"Manufacturer\": \"Redmi\", \"Country_of_Origin\": \"India\", \"Item_Weight\": \"192 g\"}, \"Additional_details\": {\"ASIN\": \"B0BYN4LFT6\", \"Best_Sellers_Rank\": \"#183 in Electronics (See Top 100 in Electronics) #37 in Smartphones\", \"Date_First_Available\": \"16 July 2022\", \"Manufacturer\": \"Redmi, Bharat FIH limited , #380,BELERICA ROAD,SRI CITY,SIDDAM AGRAHARAM VILLAGE,VARADAIAHPALEM MANDAL,CHITTOOR DISTRICT-517541,ANDHRA PRADESH\", \"Packer\": \"Bharat FIH limited , #380,BELERICA ROAD,SRI CITY,SIDDAM AGRAHARAM VILLAGE,VARADAIAHPALEM MANDAL,CHITTOOR DISTRICT-517541,ANDHRA PRADESH\", \"Importer\": \"Xiaomi Technology India Private Limited, Building Orchid. Block E, Embassy Tech Village, Marathahalli Outer Ring Road, Devarabisanahalli, Bengaluru 560103\", \"Item_Dimensions_LxWxH\": \"16.9 x 7.6 x 0.9 Centimeters\", \"Net_Quantity\": \"192 Grams\", \"Generic_Name\": \"Smartphone\"}, \"Link\": \"https://www.amazon.in/sspa/click?ie=UTF8&spc=MTozMTIwNTU2MDkxMzQ3NjY6MTY4MTE0MzUyMTpzcF9hdGY6MjAxNDI0NzEwNDE3OTg6OjA6Og&url=%2FRedmi-Lavender-Purple-128GB-Storage%2Fdp%2FB0BYN4LFT6%2Fref%3Dsr_1_1_sspa%3Fcrid%3D2C9GZV1PQRGTM%26keywords%3Dmobile%26qid%3D1681143521%26sprefix%3Dabc%252Caps%252C501%26sr%3D8-1-spons%26sp_csd%3Dd2lkZ2V0TmFtZT1zcF9hdGY%26psc%3D1\", \"Page\": 1, \"Date\": \"2023-04-10 21:48:40\", \"Search\": \"mobile\"}\n"
     ]
    }
   ],
   "source": [
    "json_data = json.dumps(a)"
   ]
  },
  {
   "cell_type": "code",
   "execution_count": 25,
   "id": "f3f0bb4e-a257-4a5e-b600-359ed64cacef",
   "metadata": {},
   "outputs": [
    {
     "ename": "NotImplementedError",
     "evalue": "",
     "output_type": "error",
     "traceback": [
      "\u001b[1;31m---------------------------------------------------------------------------\u001b[0m",
      "\u001b[1;31mNotImplementedError\u001b[0m                       Traceback (most recent call last)",
      "\u001b[1;32m~\\AppData\\Local\\Temp\\ipykernel_384\\3973352951.py\u001b[0m in \u001b[0;36m<module>\u001b[1;34m\u001b[0m\n\u001b[1;32m----> 1\u001b[1;33m \u001b[0mAdditional_details\u001b[0m \u001b[1;33m=\u001b[0m \u001b[0mpd\u001b[0m\u001b[1;33m.\u001b[0m\u001b[0mjson_normalize\u001b[0m\u001b[1;33m(\u001b[0m\u001b[0mjson_data\u001b[0m\u001b[1;33m,\u001b[0m \u001b[0mrecord_path\u001b[0m\u001b[1;33m=\u001b[0m\u001b[1;33m[\u001b[0m\u001b[1;34m\"Additional_details\"\u001b[0m\u001b[1;33m]\u001b[0m\u001b[1;33m,\u001b[0m \u001b[0mmeta\u001b[0m\u001b[1;33m=\u001b[0m\u001b[1;33m[\u001b[0m\u001b[1;34m\"_id\"\u001b[0m\u001b[1;33m]\u001b[0m\u001b[1;33m)\u001b[0m\u001b[1;33m\u001b[0m\u001b[1;33m\u001b[0m\u001b[0m\n\u001b[0m\u001b[0;32m      2\u001b[0m \u001b[0mTechnical_details\u001b[0m \u001b[1;33m=\u001b[0m \u001b[0mpd\u001b[0m\u001b[1;33m.\u001b[0m\u001b[0mjson_normalize\u001b[0m\u001b[1;33m(\u001b[0m\u001b[0mjson_data\u001b[0m\u001b[1;33m,\u001b[0m \u001b[0mrecord_path\u001b[0m\u001b[1;33m=\u001b[0m\u001b[1;33m[\u001b[0m\u001b[1;34m\"Technical_details\"\u001b[0m\u001b[1;33m]\u001b[0m\u001b[1;33m,\u001b[0m \u001b[0mmeta\u001b[0m\u001b[1;33m=\u001b[0m\u001b[1;33m[\u001b[0m\u001b[1;34m\"_id\"\u001b[0m\u001b[1;33m]\u001b[0m\u001b[1;33m)\u001b[0m\u001b[1;33m\u001b[0m\u001b[1;33m\u001b[0m\u001b[0m\n",
      "\u001b[1;32m~\\anaconda3\\lib\\site-packages\\pandas\\io\\json\\_normalize.py\u001b[0m in \u001b[0;36m_json_normalize\u001b[1;34m(data, record_path, meta, meta_prefix, record_prefix, errors, sep, max_level)\u001b[0m\n\u001b[0;32m    441\u001b[0m         \u001b[0mdata\u001b[0m \u001b[1;33m=\u001b[0m \u001b[0mlist\u001b[0m\u001b[1;33m(\u001b[0m\u001b[0mdata\u001b[0m\u001b[1;33m)\u001b[0m\u001b[1;33m\u001b[0m\u001b[1;33m\u001b[0m\u001b[0m\n\u001b[0;32m    442\u001b[0m     \u001b[1;32melse\u001b[0m\u001b[1;33m:\u001b[0m\u001b[1;33m\u001b[0m\u001b[1;33m\u001b[0m\u001b[0m\n\u001b[1;32m--> 443\u001b[1;33m         \u001b[1;32mraise\u001b[0m \u001b[0mNotImplementedError\u001b[0m\u001b[1;33m\u001b[0m\u001b[1;33m\u001b[0m\u001b[0m\n\u001b[0m\u001b[0;32m    444\u001b[0m \u001b[1;33m\u001b[0m\u001b[0m\n\u001b[0;32m    445\u001b[0m     \u001b[1;31m# check to see if a simple recursive function is possible to\u001b[0m\u001b[1;33m\u001b[0m\u001b[1;33m\u001b[0m\u001b[0m\n",
      "\u001b[1;31mNotImplementedError\u001b[0m: "
     ]
    }
   ],
   "source": [
    "Additional_details = pd.json_normalize(json_data, record_path=[\"Additional_details\"], meta=[\"_id\"])\n",
    "Technical_details = pd.json_normalize(json_data, record_path=[\"Technical_details\"], meta=[\"_id\"])"
   ]
  },
  {
   "cell_type": "code",
   "execution_count": 26,
   "id": "98a79feb-7872-49aa-badf-6d7c654c5bc6",
   "metadata": {},
   "outputs": [],
   "source": [
    "data = json.loads(json_data)"
   ]
  },
  {
   "cell_type": "code",
   "execution_count": 27,
   "id": "962d6f65-5091-48a9-b15b-9bee91ae18a2",
   "metadata": {},
   "outputs": [
    {
     "data": {
      "text/plain": [
       "{'_id': '643436e3a805f2aba00f3a7b',\n",
       " 'Name': 'Redmi 12C (Lavender Purple, 6GB RAM, 128GB Storage)',\n",
       " 'Price': 10999.0,\n",
       " 'Stars': 0,\n",
       " 'Ratings': 0,\n",
       " 'Answered_Questions': 0,\n",
       " 'Amazon_Services': '[\"Free Delivery\", \"Pay on Delivery\", \"7 days Replacement\", \"1 Year Warranty\", \"Top Brand\", \"Amazon Delivered\", \"Secure transaction\"]',\n",
       " 'Description': '[\"Processor: High performance MediaTek Helio G85,upto 2Ghz; Enhanced gaming with 1GHz GPU | 6+5GB(Virtual RAM) LPDDR4x\", \"Camera: 50MP f/1.8 AI Dual camera with Portrait mode & Night Mode | 5MP Selfie camera\", \"Display: Large 17cm HD+ display with Scratch resistant Glass and Oleophobic coating | 500nits peak brightness\", \"5000mAh(typ) battery with 10W charger in-box\", \"Dual band Wifi support ensures better throughput and connectivity\"]',\n",
       " 'Technical_details': {'OS': 'MIUI 13, Android 12.0',\n",
       "  'RAM': '128 GB',\n",
       "  'Product_Dimensions': '16.9 x 7.6 x 0.9 cm; 192 Grams',\n",
       "  'Batteries': '1 Lithium Polymer batteries required. (included)',\n",
       "  'Wireless_communication_technologies': 'Wi-Fi',\n",
       "  'Connectivity_technologies': 'Bluetooth, Wi-Fi, USB',\n",
       "  'GPS': 'GPS/AGPS,Glonass, Beidou, Galileo',\n",
       "  'Special_features': 'IP52 rating, Dedicated card slot, 50MP Primary sensor f/1.8 1.28 um (4-in-1 super pixel) with the following modes: Portrait | Night | Video | 50MP mode | Time-lapse | Movie frame | HDR | Google lens, MIUI Dialer, Rear Fingerprint sensor',\n",
       "  'Other_display_features': 'Wireless',\n",
       "  'Device_interface_-_primary': 'Touchscreen',\n",
       "  'Other_camera_features': 'Rear, Front',\n",
       "  'Audio_Jack': '3.5 mm',\n",
       "  'Form_factor': 'Bar',\n",
       "  'Colour': 'Lavender Purple',\n",
       "  'Battery_Power_Rating': '5000',\n",
       "  'Phone_Talk_Time': '39 Hours',\n",
       "  'Phone_Standby_Time_(with_data)': '680 Hours',\n",
       "  'Whats_in_the_box': 'Power Adapter, SIM Tray Ejector, USB Cable',\n",
       "  'Manufacturer': 'Redmi',\n",
       "  'Country_of_Origin': 'India',\n",
       "  'Item_Weight': '192 g'},\n",
       " 'Additional_details': {'ASIN': 'B0BYN4LFT6',\n",
       "  'Best_Sellers_Rank': '#183 in Electronics (See Top 100 in Electronics) #37 in Smartphones',\n",
       "  'Date_First_Available': '16 July 2022',\n",
       "  'Manufacturer': 'Redmi, Bharat FIH limited , #380,BELERICA ROAD,SRI CITY,SIDDAM AGRAHARAM VILLAGE,VARADAIAHPALEM MANDAL,CHITTOOR DISTRICT-517541,ANDHRA PRADESH',\n",
       "  'Packer': 'Bharat FIH limited , #380,BELERICA ROAD,SRI CITY,SIDDAM AGRAHARAM VILLAGE,VARADAIAHPALEM MANDAL,CHITTOOR DISTRICT-517541,ANDHRA PRADESH',\n",
       "  'Importer': 'Xiaomi Technology India Private Limited, Building Orchid. Block E, Embassy Tech Village, Marathahalli Outer Ring Road, Devarabisanahalli, Bengaluru 560103',\n",
       "  'Item_Dimensions_LxWxH': '16.9 x 7.6 x 0.9 Centimeters',\n",
       "  'Net_Quantity': '192 Grams',\n",
       "  'Generic_Name': 'Smartphone'},\n",
       " 'Link': 'https://www.amazon.in/sspa/click?ie=UTF8&spc=MTozMTIwNTU2MDkxMzQ3NjY6MTY4MTE0MzUyMTpzcF9hdGY6MjAxNDI0NzEwNDE3OTg6OjA6Og&url=%2FRedmi-Lavender-Purple-128GB-Storage%2Fdp%2FB0BYN4LFT6%2Fref%3Dsr_1_1_sspa%3Fcrid%3D2C9GZV1PQRGTM%26keywords%3Dmobile%26qid%3D1681143521%26sprefix%3Dabc%252Caps%252C501%26sr%3D8-1-spons%26sp_csd%3Dd2lkZ2V0TmFtZT1zcF9hdGY%26psc%3D1',\n",
       " 'Page': 1,\n",
       " 'Date': '2023-04-10 21:48:40',\n",
       " 'Search': 'mobile'}"
      ]
     },
     "execution_count": 27,
     "metadata": {},
     "output_type": "execute_result"
    }
   ],
   "source": [
    "data"
   ]
  },
  {
   "cell_type": "code",
   "execution_count": 34,
   "id": "e8d3068f-2e3b-4a77-a0f9-8f6819b5992a",
   "metadata": {},
   "outputs": [
    {
     "name": "stdout",
     "output_type": "stream",
     "text": [
      "                        _id  \\\n",
      "0  643436e3a805f2aba00f3a7b   \n",
      "\n",
      "                                                Name    Price  Stars  Ratings  \\\n",
      "0  Redmi 12C (Lavender Purple, 6GB RAM, 128GB Sto...  10999.0      0        0   \n",
      "\n",
      "   Answered_Questions                                    Amazon_Services  \\\n",
      "0                   0  [\"Free Delivery\", \"Pay on Delivery\", \"7 days R...   \n",
      "\n",
      "                                         Description  \\\n",
      "0  [\"Processor: High performance MediaTek Helio G...   \n",
      "\n",
      "                                                Link  Page  ...  \\\n",
      "0  https://www.amazon.in/sspa/click?ie=UTF8&spc=M...     1  ...   \n",
      "\n",
      "  Technical_detailsAudio_Jack Technical_detailsForm_factor  \\\n",
      "0                      3.5 mm                          Bar   \n",
      "\n",
      "  Technical_detailsColour Technical_detailsBattery_Power_Rating  \\\n",
      "0         Lavender Purple                                  5000   \n",
      "\n",
      "  Technical_detailsPhone_Talk_Time  \\\n",
      "0                         39 Hours   \n",
      "\n",
      "  Technical_detailsPhone_Standby_Time_(with_data)  \\\n",
      "0                                       680 Hours   \n",
      "\n",
      "            Technical_detailsWhats_in_the_box Technical_detailsManufacturer  \\\n",
      "0  Power Adapter, SIM Tray Ejector, USB Cable                         Redmi   \n",
      "\n",
      "  Technical_detailsCountry_of_Origin Technical_detailsItem_Weight  \n",
      "0                              India                        192 g  \n",
      "\n",
      "[1 rows x 42 columns]\n"
     ]
    }
   ],
   "source": [
    "normalized_data = {}\n",
    "for key, value in data.items():\n",
    "    if key != 'Additional_details' and key != 'Technical_details':\n",
    "        normalized_data[key] = value\n",
    "\n",
    "# Normalize Additional_details\n",
    "for key, value in data['Additional_details'].items():\n",
    "    new_key = 'Additional_deatils' + key\n",
    "    normalized_data[new_key] = value\n",
    "\n",
    "# Normalize Technical_details\n",
    "for key, value in data['Technical_details'].items():\n",
    "    new_key = 'Technical_details' + key\n",
    "    normalized_data[new_key] = value\n",
    "    \n",
    "# create a DataFrame from the data\n",
    "df = pd.DataFrame([normalized_data], index=[0])\n",
    "\n",
    "# print the DataFrame\n",
    "print(df)\n",
    "#ValueError: If using all scalar values, you must pass an index\n",
    "#ValueError: If using all scalar values, you must pass an index"
   ]
  },
  {
   "cell_type": "code",
   "execution_count": null,
   "id": "61435e42-a991-427d-b007-e455309550fa",
   "metadata": {},
   "outputs": [],
   "source": []
  }
 ],
 "metadata": {
  "kernelspec": {
   "display_name": "Python 3 (ipykernel)",
   "language": "python",
   "name": "python3"
  },
  "language_info": {
   "codemirror_mode": {
    "name": "ipython",
    "version": 3
   },
   "file_extension": ".py",
   "mimetype": "text/x-python",
   "name": "python",
   "nbconvert_exporter": "python",
   "pygments_lexer": "ipython3",
   "version": "3.9.12"
  }
 },
 "nbformat": 4,
 "nbformat_minor": 5
}
